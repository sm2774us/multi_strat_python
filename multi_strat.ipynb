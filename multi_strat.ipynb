{
 "cells": [
  {
   "cell_type": "markdown",
   "metadata": {},
   "source": [
    "# Multi-Strategy Trading Results\n",
    "\n",
    "This notebook presents the results of our multi-strategy trading approach."
   ]
  },
  {
   "cell_type": "code",
   "execution_count": null,
   "metadata": {},
   "outputs": [],
   "source": [
    "import pandas as pd\n",
    "import numpy as np\n",
    "import matplotlib.pyplot as plt\n",
    "import seaborn as sns\n",
    "from multi_strategy_trader import MultiStrategyTrader\n",
    "from backtesting_script import portfolio, backtester_results"
   ]
  },
  {
   "cell_type": "markdown",
   "metadata": {},
   "source": [
    "## Overall Performance"
   ]
  },
  {
   "cell_type": "code",
   "execution_count": null,
   "metadata": {},
   "outputs": [],
   "source": [
    "print(\"Total Return:\", portfolio.total_return())\n",
    "print(\"Sharpe Ratio:\", portfolio.sharpe_ratio())\n",
    "print(\"Max Drawdown:\", portfolio.max_drawdown())\n",
    "\n",
    "portfolio.plot().show()"
   ]
  },
  {
   "cell_type": "markdown",
   "metadata": {},
   "source": [
    "## Strategy-wise Performance"
   ]
  },
  {
   "cell_type": "code",
   "execution_count": null,
   "metadata": {},
   "outputs": [],
   "source": [
    "strategy_returns = {\n",
    "    'Mean Reversion': trader.mean_reversion_strategy().cumsum(),\n",
    "    'Momentum': trader.momentum_strategy().cumsum(),\n",
    "    'Volatility Arbitrage': trader.volatility_arb_strategy().cumsum(),\n",
    "    'Macro': trader.macro_strategy().cumsum()\n",
    "}\n",
    "\n",
    "pd.DataFrame(strategy_returns).plot(figsize=(12, 6))\n",
    "plt.title('Cumulative Returns by Strategy')\n",
    "plt.show()"
   ]
  },
  {
   "cell_type": "markdown",
   "metadata": {},
   "source": [
    "## Risk Analysis"
   ]
  },
  {
   "cell_type": "code",
   "execution_count": null,
   "metadata": {},
   "outputs": [],
   "source": [
    "daily_returns = portfolio.returns()\n",
    "plt.figure(figsize=(12, 6))\n",
    "sns.histplot(daily_returns, kde=True)\n",
    "plt.title('Distribution of Daily Returns')\n",
    "plt.show()\n",
    "\n",
    "print(\"Value at Risk (1%):\", np.percentile(daily_returns, 1))\n",
    "print(\"Expected Shortfall (1%):\", daily_returns[daily_returns <= np.percentile(daily_returns, 1)].mean())"
   ]
  },
  {
   "cell_type": "markdown",
   "metadata": {},
   "source": [
    "## Trade Analysis"
   ]
  },
  {
   "cell_type": "code",
   "execution_count": null,
   "metadata": {},
   "outputs": [],
   "source": [
    "trades = portfolio.trades()\n",
    "print(\"Number of Trades:\", len(trades))\n",
    "print(\"Average Trade Duration:\", trades.duration.mean())\n",
    "print(\"Win Rate:\", (trades.pnl > 0).mean())\n",
    "\n",
    "plt.figure(figsize=(12, 6))\n",
    "sns.scatterplot(x=trades.exit_time, y=trades.pnl, hue=trades.size > 0)\n",
    "plt.title('Trade PnL Over Time')\n",
    "plt.show()"
   ]
  }
 ],
 "metadata": {
  "kernelspec": {
   "display_name": "Python 3",
   "language": "python",
   "name": "python3"
  },
  "language_info": {
   "name": "python",
   "version": "3.8.5"
  }
 },
 "nbformat": 4,
 "nbformat_minor": 4
}
